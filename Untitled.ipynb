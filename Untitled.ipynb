{
 "cells": [
  {
   "cell_type": "code",
   "execution_count": 1,
   "metadata": {},
   "outputs": [],
   "source": [
    "import numpy as np\n",
    "import pandas as pd\n",
    "import matplotlib.pyplot as plt"
   ]
  },
  {
   "cell_type": "markdown",
   "metadata": {},
   "source": [
    "![bearing](pics/bearing.png)"
   ]
  },
  {
   "cell_type": "code",
   "execution_count": 2,
   "metadata": {},
   "outputs": [],
   "source": [
    "N = 120 #Número de parafusos da junta\n",
    "D = 3 #Diâmetro da junta (considera o centro dos furos) [m]"
   ]
  },
  {
   "cell_type": "markdown",
   "metadata": {},
   "source": [
    "![bolt](pics/bolt.png)"
   ]
  },
  {
   "cell_type": "code",
   "execution_count": 3,
   "metadata": {},
   "outputs": [],
   "source": [
    "TH = .015 #[m]\n",
    "LS = .4 #[m]\n",
    "LT = .2 #[m]\n",
    "TN = .015 #[m]\n",
    "d = .036 # Diâmetro nominal do parafuso [m]\n",
    "p = .004 # Passo da rosca [m]\n",
    "E = 200e9 # Módulo de elasticidade [Pa]"
   ]
  },
  {
   "cell_type": "code",
   "execution_count": 4,
   "metadata": {},
   "outputs": [],
   "source": [
    "#Rigidez do Parafuso\n",
    "\n",
    "A = .25 * np.pi * d**2\n",
    "At = .7854 * (d - .938*p)**2\n",
    "\n",
    "LBE = LS + TH/2\n",
    "LSE = LT + TN/2\n",
    "\n",
    "k1 = E*A / LBE\n",
    "k2 = E*At / LSE\n",
    "\n",
    "kb = (1/k1 + 1/k2)**(-1) # N/m"
   ]
  },
  {
   "cell_type": "code",
   "execution_count": 5,
   "metadata": {},
   "outputs": [
    {
     "data": {
      "text/plain": [
       "305625864.6316817"
      ]
     },
     "execution_count": 5,
     "metadata": {},
     "output_type": "execute_result"
    }
   ],
   "source": [
    "kb"
   ]
  },
  {
   "cell_type": "markdown",
   "metadata": {},
   "source": [
    "![bearing](pics/joint.png)"
   ]
  },
  {
   "cell_type": "code",
   "execution_count": 6,
   "metadata": {},
   "outputs": [],
   "source": [
    "t1 = .3 #[m]\n",
    "t2 = .3 #[m]"
   ]
  },
  {
   "cell_type": "code",
   "execution_count": 46,
   "metadata": {},
   "outputs": [],
   "source": [
    "#Rigidez da Junta\n",
    "\n",
    "# diameter of contact (DB)\n",
    "# outside diameter of the joint (DJ)\n",
    "# DH is the diameter of the hole\n",
    "\n",
    "DJ = 2 * d\n",
    "DB = 1.5 * d\n",
    "DH = 1.1 * d\n",
    "T = t1 + t2\n",
    "\n",
    "L_D = (LBE + LSE) / d\n",
    "kj_kb = 9 #Figura 5.14\n",
    "kj = kj_kb * kb"
   ]
  },
  {
   "cell_type": "markdown",
   "metadata": {},
   "source": [
    "![bearing](pics/Slenderness_Stiffness.png)"
   ]
  },
  {
   "cell_type": "code",
   "execution_count": 47,
   "metadata": {},
   "outputs": [],
   "source": [
    "# O esforço resultante do momento máximo e da carga axial é absorvido pelos \n",
    "# pares parafuso-junta, variando de forma linear com a distância à linha neutra"
   ]
  },
  {
   "cell_type": "code",
   "execution_count": 48,
   "metadata": {},
   "outputs": [],
   "source": [
    "teta = 360 / N\n",
    "#teta = np.radians(Ang)\n",
    "\n",
    "Num = np.arange(0, N, 1)\n",
    "Ang = Num * teta\n",
    "\n",
    "Ang = np.radians(Ang)\n",
    "R = (D/2) * np.sin(Ang) #Vetor com as distâncias de cada parafuso à LN [m]"
   ]
  },
  {
   "cell_type": "code",
   "execution_count": 49,
   "metadata": {},
   "outputs": [
    {
     "data": {
      "image/png": "[encoded data removed]",
      "text/plain": [
       "<Figure size 432x288 with 1 Axes>"
      ]
     },
     "metadata": {
      "needs_background": "light"
     },
     "output_type": "display_data"
    }
   ],
   "source": [
    "plt.plot(R);"
   ]
  },
  {
   "cell_type": "markdown",
   "metadata": {},
   "source": [
    "![bearing](pics/slew_bearing_loads.png)"
   ]
  },
  {
   "cell_type": "code",
   "execution_count": 50,
   "metadata": {},
   "outputs": [],
   "source": [
    "#Cargas na junta\n",
    "\n",
    "Fa = 70000 * 9.81 #Força Axial Máxima [N]\n",
    "Mt = 1500000 * 9.81 #Momento Máximo [N.m]"
   ]
  },
  {
   "cell_type": "markdown",
   "metadata": {},
   "source": [
    "$$M_t = \\sum_{i=1}^{N}{R_i \\times F_i}$$\n",
    "$$F_i = C \\times \\frac{R_i}{R_{máx}} $$"
   ]
  },
  {
   "cell_type": "code",
   "execution_count": 51,
   "metadata": {},
   "outputs": [],
   "source": [
    "#Cálculo da constante C [N]\n",
    "\n",
    "C = 0\n",
    "while np.sum(C * np.abs(R) / np.max(R)) < Mt:\n",
    "    C += 10"
   ]
  },
  {
   "cell_type": "code",
   "execution_count": 52,
   "metadata": {},
   "outputs": [
    {
     "data": {
      "image/png": "[encoded data removed]",
      "text/plain": [
       "<Figure size 432x288 with 1 Axes>"
      ]
     },
     "metadata": {
      "needs_background": "light"
     },
     "output_type": "display_data"
    }
   ],
   "source": [
    "F = C * R / np.max(R)\n",
    "plt.plot(R);"
   ]
  },
  {
   "cell_type": "code",
   "execution_count": 53,
   "metadata": {},
   "outputs": [],
   "source": [
    "#Carga adicional máxima no conjunto\n",
    "\n",
    "F_max_j = np.max(F) #Igual a C se R_max = D/2\n",
    "\n",
    "#Carga adicional máxima sentida pelo parafuso\n",
    "\n",
    "F_max_p = F_max_j * (kb / (kb + kj))"
   ]
  },
  {
   "cell_type": "code",
   "execution_count": 54,
   "metadata": {},
   "outputs": [],
   "source": [
    "F_pc = 900e6 * .7 * At"
   ]
  },
  {
   "cell_type": "code",
   "execution_count": 55,
   "metadata": {},
   "outputs": [],
   "source": [
    "x = np.arange(0, 10 * np.pi, .01)"
   ]
  },
  {
   "cell_type": "code",
   "execution_count": 56,
   "metadata": {},
   "outputs": [
    {
     "data": {
      "image/png": "[encoded data removed]",
      "text/plain": [
       "<Figure size 432x288 with 1 Axes>"
      ]
     },
     "metadata": {
      "needs_background": "light"
     },
     "output_type": "display_data"
    }
   ],
   "source": [
    "#Plota a carga no parafuso (pré carga + carga adicional devido ao momento máximo)\n",
    "\n",
    "plt.plot(x, F_pc + F_max_p * np.cos(x))\n",
    "plt.plot(x, F_pc * (np.cos(x))/np.cos(x))\n",
    "plt.ylim(0, 1.1 * (F_pc + F_max_p));"
   ]
  }
 ],
 "metadata": {
  "kernelspec": {
   "display_name": "Python 3",
   "language": "python",
   "name": "python3"
  },
  "language_info": {
   "codemirror_mode": {
    "name": "ipython",
    "version": 3
   },
   "file_extension": ".py",
   "mimetype": "text/x-python",
   "name": "python",
   "nbconvert_exporter": "python",
   "pygments_lexer": "ipython3",
   "version": "3.7.3"
  }
 },
 "nbformat": 4,
 "nbformat_minor": 4
}
